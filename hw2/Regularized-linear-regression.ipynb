{
 "cells": [
  {
   "cell_type": "markdown",
   "metadata": {},
   "source": [
    "## CS5785 Fall 2021 Applied Machine Learning Homework 2: PROGRAMMING EXERCISE 1 - Regularized linear regression\r\n",
    "\r\n",
    "### By Siyi Chen(sc2358)，Hao Geng (hg457)"
   ]
  },
  {
   "cell_type": "code",
   "execution_count": null,
   "metadata": {
    "_cell_guid": "b1076dfc-b9ad-4769-8c92-a6c4dae69d19",
    "_uuid": "8f2839f25d086af736a60e9eeb907d3b93b6e0e5",
    "tags": []
   },
   "outputs": [],
   "source": [
    "# This Python 3 environment comes with many helpful analytics libraries installed\n",
    "# It is defined by the kaggle/python Docker image: https://github.com/kaggle/docker-python\n",
    "# For example, here's several helpful packages to load\n",
    "\n",
    "import numpy as np # linear algebra\n",
    "import pandas as pd # data processing, CSV file I/O (e.g. pd.read_csv)\n",
    "from matplotlib import pyplot as plt\n",
    "import seaborn as sns\n",
    "import statsmodels.api as sm\n",
    "import statsmodels.formula.api as smf\n",
    "from sklearn.linear_model import LinearRegression\n",
    "from sklearn import preprocessing\n",
    "from sklearn.linear_model import RidgeCV\n",
    "from sklearn.feature_selection import VarianceThreshold\n",
    "from sklearn.preprocessing import PolynomialFeatures\n",
    "from sklearn.metrics import mean_squared_error, r2_score, accuracy_score\n",
    "\n",
    "\n",
    "\n",
    "# Input data files are available in the read-only \"../input/\" directory\n",
    "# For example, running this (by clicking run or pressing Shift+Enter) will list all files under the input directory\n",
    "\n",
    "import os\n",
    "for dirname, _, filenames in os.walk('/kaggle/input'):\n",
    "    for filename in filenames:\n",
    "        print(os.path.join(dirname, filename))\n",
    "\n",
    "# You can write up to 20GB to the current directory (/kaggle/working/) that gets preserved as output when you create a version using \"Save & Run All\" \n",
    "# You can also write temporary files to /kaggle/temp/, but they won't be saved outside of the current session"
   ]
  },
  {
   "cell_type": "code",
   "execution_count": null,
   "metadata": {
    "tags": []
   },
   "outputs": [],
   "source": [
    "train=pd.read_csv('train.csv')\n",
    "test=pd.read_csv('test.csv')\n"
   ]
  },
  {
   "cell_type": "code",
   "execution_count": null,
   "metadata": {
    "tags": []
   },
   "outputs": [],
   "source": [
    "desc1 = train.describe(include =['object','int','float'] )\n",
    "desc2 = train.describe(include =['object'] )\n",
    "print(desc1)\n",
    "print(desc2)\n",
    "#(b) 1460 sample; 79 features; 43 categorial features"
   ]
  },
  {
   "cell_type": "code",
   "execution_count": null,
   "metadata": {
    "tags": []
   },
   "outputs": [],
   "source": [
    "train_number=train.select_dtypes(include=['int','float'])\n",
    "train_number.corr()\n",
    "#np.savetxt('corr.csv',train_number.corr(),delimiter = ',')\n",
    "#print(train_number)"
   ]
  },
  {
   "cell_type": "code",
   "execution_count": null,
   "metadata": {
    "tags": []
   },
   "outputs": [],
   "source": [
    "train['Foundation']=train['Foundation'].map({'BrkTil':0,'CBlock':1,'PConc':2,'Slab':3,'Stone':4,'Wood':5}).astype(int) \n",
    "train['ExterCond']=train['ExterCond'].map({'Ex':5,'Gd':4,'TA':3,'Fa':2,'Po':1}).astype(int)\n",
    "feature_important=train[['YrSold','GarageArea','LotArea','GrLivArea','Foundation','ExterCond','TotalBsmtSF','SalePrice',]]\n",
    "print(feature_important)\n",
    "print(feature_important.describe())\n",
    "sns.pairplot(feature_important)\n",
    "plt.savefig('pairplot.png')\n",
    "plt.show()\n"
   ]
  },
  {
   "cell_type": "code",
   "execution_count": 6,
   "metadata": {
    "tags": []
   },
   "outputs": [
    {
     "data": {
      "text/html": [
       "<div>\n",
       "<style scoped>\n",
       "    .dataframe tbody tr th:only-of-type {\n",
       "        vertical-align: middle;\n",
       "    }\n",
       "\n",
       "    .dataframe tbody tr th {\n",
       "        vertical-align: top;\n",
       "    }\n",
       "\n",
       "    .dataframe thead th {\n",
       "        text-align: right;\n",
       "    }\n",
       "</style>\n",
       "<table border=\"1\" class=\"dataframe\">\n",
       "  <thead>\n",
       "    <tr style=\"text-align: right;\">\n",
       "      <th></th>\n",
       "      <th>0</th>\n",
       "      <th>1</th>\n",
       "    </tr>\n",
       "  </thead>\n",
       "  <tbody>\n",
       "    <tr>\n",
       "      <th>YrSold</th>\n",
       "      <td>-39.577844</td>\n",
       "      <td>-17.649878</td>\n",
       "    </tr>\n",
       "    <tr>\n",
       "      <th>GarageArea</th>\n",
       "      <td>70.550980</td>\n",
       "      <td>97.308327</td>\n",
       "    </tr>\n",
       "    <tr>\n",
       "      <th>LotArea</th>\n",
       "      <td>0.084666</td>\n",
       "      <td>0.567988</td>\n",
       "    </tr>\n",
       "    <tr>\n",
       "      <th>GrLivArea</th>\n",
       "      <td>59.991112</td>\n",
       "      <td>70.472489</td>\n",
       "    </tr>\n",
       "    <tr>\n",
       "      <th>Foundation</th>\n",
       "      <td>15240.582361</td>\n",
       "      <td>22059.199878</td>\n",
       "    </tr>\n",
       "    <tr>\n",
       "      <th>ExterCond</th>\n",
       "      <td>-429.460696</td>\n",
       "      <td>12703.366531</td>\n",
       "    </tr>\n",
       "    <tr>\n",
       "      <th>TotalBsmtSF</th>\n",
       "      <td>42.312925</td>\n",
       "      <td>54.936695</td>\n",
       "    </tr>\n",
       "  </tbody>\n",
       "</table>\n",
       "</div>"
      ],
      "text/plain": [
       "                        0             1\n",
       "YrSold         -39.577844    -17.649878\n",
       "GarageArea      70.550980     97.308327\n",
       "LotArea          0.084666      0.567988\n",
       "GrLivArea       59.991112     70.472489\n",
       "Foundation   15240.582361  22059.199878\n",
       "ExterCond     -429.460696  12703.366531\n",
       "TotalBsmtSF     42.312925     54.936695"
      ]
     },
     "execution_count": 6,
     "metadata": {},
     "output_type": "execute_result"
    }
   ],
   "source": [
    "OLS_result=sm.OLS(feature_important['SalePrice'],feature_important[['YrSold','GarageArea','LotArea','GrLivArea','Foundation','ExterCond','TotalBsmtSF']]).fit()\n",
    "#OLS_result.summary()\n",
    "OLS_result.conf_int(alpha=0.05)"
   ]
  },
  {
   "cell_type": "code",
   "execution_count": 7,
   "metadata": {
    "tags": []
   },
   "outputs": [],
   "source": [
    "# OLS_result=sm.OLS(train_Y,train_X).fit()\n",
    "# test_Y_hat=OLS_result.predict(test_X)\n",
    "# #print(test_Y_hat.values)\n",
    "# #print((test_Y.values-test_Y_hat.values)**2)\n",
    "# MSE_OLS=(sum((test_Y.values-test_Y_hat.values)**2))/(292)\n",
    "# print(MSE_OLS)"
   ]
  },
  {
   "cell_type": "markdown",
   "metadata": {},
   "source": [
    "OLS"
   ]
  },
  {
   "cell_type": "markdown",
   "metadata": {},
   "source": [
    "# NEW"
   ]
  },
  {
   "cell_type": "code",
   "execution_count": null,
   "metadata": {
    "tags": []
   },
   "outputs": [],
   "source": [
    "null_columns = train.columns[train.isnull().any()]\n",
    "print(train[null_columns].isna().sum())\n",
    "\n"
   ]
  },
  {
   "cell_type": "markdown",
   "metadata": {},
   "source": [
    "summary of nan"
   ]
  },
  {
   "cell_type": "code",
   "execution_count": 29,
   "metadata": {},
   "outputs": [
    {
     "name": "stdout",
     "output_type": "stream",
     "text": [
      "        Id  MSSubClass MSZoning  LotArea Street LotShape LandContour  \\\n",
      "0     1461          20       RH    11622   Pave      Reg         Lvl   \n",
      "1     1462          20       RL    14267   Pave      IR1         Lvl   \n",
      "2     1463          60       RL    13830   Pave      IR1         Lvl   \n",
      "3     1464          60       RL     9978   Pave      IR1         Lvl   \n",
      "4     1465         120       RL     5005   Pave      IR1         HLS   \n",
      "...    ...         ...      ...      ...    ...      ...         ...   \n",
      "1454  2915         160       RM     1936   Pave      Reg         Lvl   \n",
      "1455  2916         160       RM     1894   Pave      Reg         Lvl   \n",
      "1456  2917          20       RL    20000   Pave      Reg         Lvl   \n",
      "1457  2918          85       RL    10441   Pave      Reg         Lvl   \n",
      "1458  2919          60       RL     9627   Pave      Reg         Lvl   \n",
      "\n",
      "     LotConfig LandSlope Neighborhood  ... OpenPorchSF EnclosedPorch  \\\n",
      "0       Inside       Gtl        NAmes  ...           0             0   \n",
      "1       Corner       Gtl        NAmes  ...          36             0   \n",
      "2       Inside       Gtl      Gilbert  ...          34             0   \n",
      "3       Inside       Gtl      Gilbert  ...          36             0   \n",
      "4       Inside       Gtl      StoneBr  ...          82             0   \n",
      "...        ...       ...          ...  ...         ...           ...   \n",
      "1454    Inside       Gtl      MeadowV  ...           0             0   \n",
      "1455    Inside       Gtl      MeadowV  ...          24             0   \n",
      "1456    Inside       Gtl      Mitchel  ...           0             0   \n",
      "1457    Inside       Gtl      Mitchel  ...          32             0   \n",
      "1458    Inside       Mod      Mitchel  ...          48             0   \n",
      "\n",
      "      3SsnPorch  ScreenPorch  PoolArea  MiscVal MoSold YrSold  SaleType  \\\n",
      "0             0          120         0        0      6   2010        WD   \n",
      "1             0            0         0    12500      6   2010        WD   \n",
      "2             0            0         0        0      3   2010        WD   \n",
      "3             0            0         0        0      6   2010        WD   \n",
      "4             0          144         0        0      1   2010        WD   \n",
      "...         ...          ...       ...      ...    ...    ...       ...   \n",
      "1454          0            0         0        0      6   2006        WD   \n",
      "1455          0            0         0        0      4   2006        WD   \n",
      "1456          0            0         0        0      9   2006        WD   \n",
      "1457          0            0         0      700      7   2006        WD   \n",
      "1458          0            0         0        0     11   2006        WD   \n",
      "\n",
      "      SaleCondition  \n",
      "0            Normal  \n",
      "1            Normal  \n",
      "2            Normal  \n",
      "3            Normal  \n",
      "4            Normal  \n",
      "...             ...  \n",
      "1454         Normal  \n",
      "1455        Abnorml  \n",
      "1456        Abnorml  \n",
      "1457         Normal  \n",
      "1458         Normal  \n",
      "\n",
      "[1459 rows x 52 columns]\n",
      "        Id  MSSubClass MSZoning  LotArea Street LotShape LandContour  \\\n",
      "0        1          60       RL     8450   Pave      Reg         Lvl   \n",
      "1        2          20       RL     9600   Pave      Reg         Lvl   \n",
      "2        3          60       RL    11250   Pave      IR1         Lvl   \n",
      "3        4          70       RL     9550   Pave      IR1         Lvl   \n",
      "4        5          60       RL    14260   Pave      IR1         Lvl   \n",
      "...    ...         ...      ...      ...    ...      ...         ...   \n",
      "1455  1456          60       RL     7917   Pave      Reg         Lvl   \n",
      "1456  1457          20       RL    13175   Pave      Reg         Lvl   \n",
      "1457  1458          70       RL     9042   Pave      Reg         Lvl   \n",
      "1458  1459          20       RL     9717   Pave      Reg         Lvl   \n",
      "1459  1460          20       RL     9937   Pave      Reg         Lvl   \n",
      "\n",
      "     LotConfig LandSlope Neighborhood  ... EnclosedPorch 3SsnPorch  \\\n",
      "0       Inside       Gtl      CollgCr  ...             0         0   \n",
      "1          FR2       Gtl      Veenker  ...             0         0   \n",
      "2       Inside       Gtl      CollgCr  ...             0         0   \n",
      "3       Corner       Gtl      Crawfor  ...           272         0   \n",
      "4          FR2       Gtl      NoRidge  ...             0         0   \n",
      "...        ...       ...          ...  ...           ...       ...   \n",
      "1455    Inside       Gtl      Gilbert  ...             0         0   \n",
      "1456    Inside       Gtl       NWAmes  ...             0         0   \n",
      "1457    Inside       Gtl      Crawfor  ...             0         0   \n",
      "1458    Inside       Gtl        NAmes  ...           112         0   \n",
      "1459    Inside       Gtl      Edwards  ...             0         0   \n",
      "\n",
      "      ScreenPorch  PoolArea  MiscVal  MoSold YrSold SaleType  SaleCondition  \\\n",
      "0               0         0        0       2   2008       WD         Normal   \n",
      "1               0         0        0       5   2007       WD         Normal   \n",
      "2               0         0        0       9   2008       WD         Normal   \n",
      "3               0         0        0       2   2006       WD        Abnorml   \n",
      "4               0         0        0      12   2008       WD         Normal   \n",
      "...           ...       ...      ...     ...    ...      ...            ...   \n",
      "1455            0         0        0       8   2007       WD         Normal   \n",
      "1456            0         0        0       2   2010       WD         Normal   \n",
      "1457            0         0     2500       5   2010       WD         Normal   \n",
      "1458            0         0        0       4   2010       WD         Normal   \n",
      "1459            0         0        0       6   2008       WD         Normal   \n",
      "\n",
      "      SalePrice  \n",
      "0        208500  \n",
      "1        181500  \n",
      "2        223500  \n",
      "3        140000  \n",
      "4        250000  \n",
      "...         ...  \n",
      "1455     175000  \n",
      "1456     210000  \n",
      "1457     266500  \n",
      "1458     142125  \n",
      "1459     147500  \n",
      "\n",
      "[1460 rows x 53 columns]\n"
     ]
    }
   ],
   "source": [
    "houses_train = train.drop(columns = ['GarageQual','BsmtCond','BsmtQual','MasVnrType','BsmtExposure','BsmtFinType1','BsmtFinType2','FireplaceQu','GarageType','GarageFinish','GarageCond','PoolQC', 'Fence', 'MiscFeature', 'Alley','LotFrontage','MasVnrArea','GarageYrBlt', 'ExterCond', 'Foundation', 'Utilities', 'Condition2', 'HouseStyle', 'RoofMatl', 'Exterior1st', 'Exterior2nd', 'Heating', 'Electrical']) #We start deleting the features with more than half of null values\r\n",
    "houses_test = test.drop(columns = ['GarageQual','BsmtCond','BsmtQual','MasVnrType','BsmtExposure','BsmtFinType1','BsmtFinType2','FireplaceQu','GarageType','GarageFinish','GarageCond','PoolQC', 'Fence', 'MiscFeature', 'Alley','LotFrontage','MasVnrArea','GarageYrBlt', 'ExterCond', 'Foundation', 'Utilities', 'Condition2', 'HouseStyle', 'RoofMatl', 'Exterior1st', 'Exterior2nd', 'Heating', 'Electrical'])\r\n",
    "\r\n",
    "# null_columns1 = houses_test.columns[houses_test.isnull().any()]\r\n",
    "# print(train[null_columns1].isna().sum())\r\n",
    "\r\n",
    "# print(houses_test)\r\n",
    "# print(houses_train)\r\n",
    "#null_columns.drop(['PoolQC', 'Fence', 'MiscFeature', 'Alley'])\r\n",
    "# null_columns1 = houses_test.columns[houses_test.isnull().any()]\r\n",
    "# print(train[null_columns1].isna().sum())\r\n",
    "\r\n",
    "\r\n",
    "print(houses_test)\r\n",
    "print(houses_train)\r\n",
    "#null_columns.drop(['PoolQC', 'Fence', 'MiscFeature', 'Alley'])"
   ]
  },
  {
   "cell_type": "markdown",
   "metadata": {},
   "source": [
    "DROP Columns which has much NAN values"
   ]
  },
  {
   "cell_type": "code",
   "execution_count": 27,
   "metadata": {},
   "outputs": [
    {
     "name": "stdout",
     "output_type": "stream",
     "text": [
      "        Id  MSSubClass  LotArea  OverallQual  OverallCond  YearBuilt  \\\n",
      "0     1461          20    11622            5            6       1961   \n",
      "1     1462          20    14267            6            6       1958   \n",
      "2     1463          60    13830            5            5       1997   \n",
      "3     1464          60     9978            6            6       1998   \n",
      "4     1465         120     5005            8            5       1992   \n",
      "...    ...         ...      ...          ...          ...        ...   \n",
      "1454  2915         160     1936            4            7       1970   \n",
      "1455  2916         160     1894            4            5       1970   \n",
      "1456  2917          20    20000            5            7       1960   \n",
      "1457  2918          85    10441            5            5       1992   \n",
      "1458  2919          60     9627            7            5       1993   \n",
      "\n",
      "      YearRemodAdd  BsmtFinSF1  BsmtFinSF2  BsmtUnfSF  ...  SaleType_ConLI  \\\n",
      "0             1961       468.0       144.0      270.0  ...               0   \n",
      "1             1958       923.0         0.0      406.0  ...               0   \n",
      "2             1998       791.0         0.0      137.0  ...               0   \n",
      "3             1998       602.0         0.0      324.0  ...               0   \n",
      "4             1992       263.0         0.0     1017.0  ...               0   \n",
      "...            ...         ...         ...        ...  ...             ...   \n",
      "1454          1970         0.0         0.0      546.0  ...               0   \n",
      "1455          1970       252.0         0.0      294.0  ...               0   \n",
      "1456          1996      1224.0         0.0        0.0  ...               0   \n",
      "1457          1992       337.0         0.0      575.0  ...               0   \n",
      "1458          1994       758.0         0.0      238.0  ...               0   \n",
      "\n",
      "      SaleType_ConLw  SaleType_New  SaleType_Oth  SaleType_WD  \\\n",
      "0                  0             0             0            1   \n",
      "1                  0             0             0            1   \n",
      "2                  0             0             0            1   \n",
      "3                  0             0             0            1   \n",
      "4                  0             0             0            1   \n",
      "...              ...           ...           ...          ...   \n",
      "1454               0             0             0            1   \n",
      "1455               0             0             0            1   \n",
      "1456               0             0             0            1   \n",
      "1457               0             0             0            1   \n",
      "1458               0             0             0            1   \n",
      "\n",
      "      SaleCondition_AdjLand  SaleCondition_Alloca  SaleCondition_Family  \\\n",
      "0                         0                     0                     0   \n",
      "1                         0                     0                     0   \n",
      "2                         0                     0                     0   \n",
      "3                         0                     0                     0   \n",
      "4                         0                     0                     0   \n",
      "...                     ...                   ...                   ...   \n",
      "1454                      0                     0                     0   \n",
      "1455                      0                     0                     0   \n",
      "1456                      0                     0                     0   \n",
      "1457                      0                     0                     0   \n",
      "1458                      0                     0                     0   \n",
      "\n",
      "      SaleCondition_Normal  SaleCondition_Partial  \n",
      "0                        1                      0  \n",
      "1                        1                      0  \n",
      "2                        1                      0  \n",
      "3                        1                      0  \n",
      "4                        1                      0  \n",
      "...                    ...                    ...  \n",
      "1454                     1                      0  \n",
      "1455                     0                      0  \n",
      "1456                     0                      0  \n",
      "1457                     1                      0  \n",
      "1458                     1                      0  \n",
      "\n",
      "[1459 rows x 130 columns]\n",
      "        Id  MSSubClass  LotArea  OverallQual  OverallCond  YearBuilt  \\\n",
      "0        1          60     8450            7            5       2003   \n",
      "1        2          20     9600            6            8       1976   \n",
      "2        3          60    11250            7            5       2001   \n",
      "3        4          70     9550            7            5       1915   \n",
      "4        5          60    14260            8            5       2000   \n",
      "...    ...         ...      ...          ...          ...        ...   \n",
      "1455  1456          60     7917            6            5       1999   \n",
      "1456  1457          20    13175            6            6       1978   \n",
      "1457  1458          70     9042            7            9       1941   \n",
      "1458  1459          20     9717            5            6       1950   \n",
      "1459  1460          20     9937            5            6       1965   \n",
      "\n",
      "      YearRemodAdd  BsmtFinSF1  BsmtFinSF2  BsmtUnfSF  ...  SaleType_ConLI  \\\n",
      "0             2003         706           0        150  ...               0   \n",
      "1             1976         978           0        284  ...               0   \n",
      "2             2002         486           0        434  ...               0   \n",
      "3             1970         216           0        540  ...               0   \n",
      "4             2000         655           0        490  ...               0   \n",
      "...            ...         ...         ...        ...  ...             ...   \n",
      "1455          2000           0           0        953  ...               0   \n",
      "1456          1988         790         163        589  ...               0   \n",
      "1457          2006         275           0        877  ...               0   \n",
      "1458          1996          49        1029          0  ...               0   \n",
      "1459          1965         830         290        136  ...               0   \n",
      "\n",
      "      SaleType_ConLw  SaleType_New  SaleType_Oth  SaleType_WD  \\\n",
      "0                  0             0             0            1   \n",
      "1                  0             0             0            1   \n",
      "2                  0             0             0            1   \n",
      "3                  0             0             0            1   \n",
      "4                  0             0             0            1   \n",
      "...              ...           ...           ...          ...   \n",
      "1455               0             0             0            1   \n",
      "1456               0             0             0            1   \n",
      "1457               0             0             0            1   \n",
      "1458               0             0             0            1   \n",
      "1459               0             0             0            1   \n",
      "\n",
      "      SaleCondition_AdjLand  SaleCondition_Alloca  SaleCondition_Family  \\\n",
      "0                         0                     0                     0   \n",
      "1                         0                     0                     0   \n",
      "2                         0                     0                     0   \n",
      "3                         0                     0                     0   \n",
      "4                         0                     0                     0   \n",
      "...                     ...                   ...                   ...   \n",
      "1455                      0                     0                     0   \n",
      "1456                      0                     0                     0   \n",
      "1457                      0                     0                     0   \n",
      "1458                      0                     0                     0   \n",
      "1459                      0                     0                     0   \n",
      "\n",
      "      SaleCondition_Normal  SaleCondition_Partial  \n",
      "0                        1                      0  \n",
      "1                        1                      0  \n",
      "2                        1                      0  \n",
      "3                        0                      0  \n",
      "4                        1                      0  \n",
      "...                    ...                    ...  \n",
      "1455                     1                      0  \n",
      "1456                     1                      0  \n",
      "1457                     1                      0  \n",
      "1458                     1                      0  \n",
      "1459                     1                      0  \n",
      "\n",
      "[1460 rows x 132 columns]\n"
     ]
    }
   ],
   "source": [
    "houses_train=pd.get_dummies(houses_train,drop_first=True)\n",
    "houses_test=pd.get_dummies(houses_test,drop_first=True)\n",
    "print(houses_test)\n",
    "print(houses_train)"
   ]
  },
  {
   "cell_type": "markdown",
   "metadata": {},
   "source": [
    "one hot encoding"
   ]
  },
  {
   "cell_type": "code",
   "execution_count": null,
   "metadata": {},
   "outputs": [],
   "source": [
    "from sklearn.model_selection import train_test_split\r\n",
    "Y=train.iloc[:, -1:]\r\n",
    "X=houses_train.drop(['Id','SalePrice'],axis=1)\r\n",
    "#print(X)\r\n",
    "\r\n",
    "\r\n",
    "train_X,test_X,train_Y,test_Y = train_test_split(X,Y,test_size=0.2)\r\n",
    "# print(test_Y.shape) #(292, 1)\r\n",
    "# print(test_X.shape)#(292, 267)\r\n",
    "# print(train_Y.shape)#(1168, 1)\r\n",
    "# print(train_X.shape)#(1168, 267)\r\n",
    "scaler = preprocessing.StandardScaler()\r\n",
    "scaler.fit(train_X)\r\n",
    "train_X_trans = pd.DataFrame(scaler.transform(train_X))\r\n",
    "test_X_trans = pd.DataFrame(scaler.transform(test_X))\r\n",
    "print(train_X_trans)"
   ]
  },
  {
   "cell_type": "markdown",
   "metadata": {},
   "source": [
    "train,test split"
   ]
  },
  {
   "cell_type": "code",
   "execution_count": null,
   "metadata": {},
   "outputs": [],
   "source": [
    "LRreg = LinearRegression().fit(train_X_trans, train_Y)\n",
    "pred_Y=LRreg.predict(test_X_trans)\n",
    "print('accuarcy:',LRreg.score(test_X_trans, test_Y))\n",
    "print('R:',r2_score(test_Y, pred_Y))\n",
    "print('MSE:', mean_squared_error(test_Y, pred_Y))"
   ]
  },
  {
   "cell_type": "code",
   "execution_count": 13,
   "metadata": {},
   "outputs": [
    {
     "name": "stderr",
     "output_type": "stream",
     "text": [
      "/Library/Frameworks/Python.framework/Versions/3.8/lib/python3.8/site-packages/sklearn/model_selection/_split.py:676: UserWarning: The least populated class in y has only 1 members, which is less than n_splits=10.\n",
      "  warnings.warn(\n"
     ]
    },
    {
     "name": "stdout",
     "output_type": "stream",
     "text": [
      "Best k: 91\n",
      "MSE: 4282496297.7465754\n",
      "R: 0.2913863234659838\n"
     ]
    }
   ],
   "source": [
    "from sklearn.neighbors import KNeighborsClassifier\n",
    "from sklearn.model_selection import GridSearchCV\n",
    "\n",
    "\n",
    "knn = KNeighborsClassifier()\n",
    "param_grid = {'n_neighbors': np.arange(1,100,10)}\n",
    "# print(train_Y.values.ravel())\n",
    "knn_cv = GridSearchCV(knn, param_grid, cv=10)\n",
    "knn_cv.fit(train_X_trans,train_Y.values.ravel())\n",
    "knn_cv.best_params_\n",
    "pred_Y = knn_cv.predict(test_X_trans)\n",
    "\n",
    "print('Best k:', knn_cv.best_params_['n_neighbors'])\n",
    "print('MSE:', mean_squared_error(test_Y, pred_Y))\n",
    "print('R:', r2_score(test_Y, pred_Y))\n"
   ]
  },
  {
   "cell_type": "code",
   "execution_count": 14,
   "metadata": {},
   "outputs": [
    {
     "name": "stdout",
     "output_type": "stream",
     "text": [
      "score: 0.8672621783054506\n",
      "best alpha: 100.0\n",
      "MSE: 802199066.7161006\n",
      "R square: 0.8672621783054506\n"
     ]
    }
   ],
   "source": [
    "rcv = RidgeCV(alphas=[1e-3,1e-1, 1, 10, 100]).fit(train_X_trans, train_Y)\n",
    "pred_Y = rcv.predict(test_X_trans)\n",
    "score = rcv.score(test_X_trans, test_Y)\n",
    "\n",
    "print('score:', score)\n",
    "print('best alpha:', rcv.alpha_)\n",
    "print('MSE:', mean_squared_error(test_Y, pred_Y))\n",
    "print('R:', r2_score(test_Y, pred_Y))\n"
   ]
  },
  {
   "cell_type": "code",
   "execution_count": 15,
   "metadata": {},
   "outputs": [
    {
     "name": "stderr",
     "output_type": "stream",
     "text": [
      "/Library/Frameworks/Python.framework/Versions/3.8/lib/python3.8/site-packages/sklearn/linear_model/_coordinate_descent.py:1570: DataConversionWarning: A column-vector y was passed when a 1d array was expected. Please change the shape of y to (n_samples, ), for example using ravel().\n",
      "  y = column_or_1d(y, warn=True)\n"
     ]
    },
    {
     "name": "stdout",
     "output_type": "stream",
     "text": [
      "score: 0.8133542004168238\n",
      "best alpha: 4452.448218762587\n",
      "MSE: 1127991135.613555\n",
      "R square: 0.8133542004168238\n"
     ]
    }
   ],
   "source": [
    "from sklearn.linear_model import LassoCV\n",
    "lcv = LassoCV(cv=10, random_state=0).fit(train_X_trans, train_Y)\n",
    "score = lcv.score(test_X_trans,test_Y)\n",
    "pred_Y = lcv.predict(test_X_trans)\n",
    "print('score:', score)\n",
    "print('best alpha:', lcv.alpha_)\n",
    "print('MSE:', mean_squared_error(test_Y, pred_Y))\n",
    "print('R:', r2_score(test_Y, pred_Y))\n"
   ]
  },
  {
   "cell_type": "code",
   "execution_count": 16,
   "metadata": {},
   "outputs": [
    {
     "name": "stdout",
     "output_type": "stream",
     "text": [
      "Before removing features with low variance, X train shape: (1168, 123)\n",
      "Before removing features with low variance, X test shape: (292, 123)\n",
      "After removing features with low variance, X train shape: (1168, 30)\n",
      "After removing features with low variance, X test shape: (292, 30)\n",
      "features_removed_low_var Index(['MSSubClass', 'BedroomAbvGr', 'KitchenAbvGr', 'GarageArea',\n",
      "       'OpenPorchSF', 'ScreenPorch', 'PoolArea', 'MSZoning_FV', 'MSZoning_RM',\n",
      "       'Street_Pave', 'LotShape_IR2', 'LotShape_IR3', 'LandContour_Lvl',\n",
      "       'LotConfig_CulDSac', 'LotConfig_FR2', 'Neighborhood_BrkSide',\n",
      "       'Neighborhood_CollgCr', 'Neighborhood_IDOTRR', 'Neighborhood_NridgHt',\n",
      "       'Neighborhood_StoneBr', 'Neighborhood_Veenker', 'Condition1_Feedr',\n",
      "       'Condition1_Norm', 'Condition1_PosA', 'Condition1_RRAe',\n",
      "       'RoofStyle_Mansard', 'CentralAir_Y', 'KitchenQual_Fa',\n",
      "       'Functional_Min1', 'SaleCondition_Partial'],\n",
      "      dtype='object')\n"
     ]
    }
   ],
   "source": [
    "from sklearn.feature_selection import SequentialFeatureSelector\n",
    "print('Before removing features with low variance, X train shape:', train_X_trans.shape)\n",
    "print('Before removing features with low variance, X test shape:', test_X_trans.shape)\n",
    "selector = VarianceThreshold(threshold=1)\n",
    "train_X_removed_low_var = selector.fit_transform(train_X_trans)\n",
    "test_X_removed_low_var = selector.transform(test_X_trans)\n",
    "print('After removing features with low variance, X train shape:', train_X_removed_low_var.shape)\n",
    "print('After removing features with low variance, X test shape:', test_X_removed_low_var.shape)\n",
    "features_removed_low_var = X.columns[selector.get_support() == True]\n",
    "print('features_removed_low_var', features_removed_low_var)\n"
   ]
  },
  {
   "cell_type": "code",
   "execution_count": 17,
   "metadata": {},
   "outputs": [
    {
     "name": "stdout",
     "output_type": "stream",
     "text": [
      "k: 5\n",
      "OLS Model Accuracy: 0.5166851033488691\n",
      "k: 10\n",
      "OLS Model Accuracy: 0.5553979033604741\n",
      "k: 15\n",
      "OLS Model Accuracy: 0.563011306249922\n",
      "k: 20\n",
      "OLS Model Accuracy: 0.5647267952390185\n"
     ]
    }
   ],
   "source": [
    "best_score = 0\n",
    "best_k = 0\n",
    "\n",
    "ks = [k for k in range (5, 23, 5)]\n",
    "scores = []\n",
    "\n",
    "for k in ks:\n",
    "    ols = LinearRegression()\n",
    "    sfs = SequentialFeatureSelector(ols, direction='forward', n_features_to_select=k, cv=10)\n",
    "    sfs.fit(train_X_removed_low_var, train_Y)\n",
    "    \n",
    "    train_X_selected = sfs.transform(train_X_removed_low_var)\n",
    "    test_X_selected = sfs.transform(test_X_removed_low_var)\n",
    "    \n",
    "    ols.fit(train_X_selected, train_Y)\n",
    "    pred_Y = ols.predict(test_X_selected)\n",
    "    score = ols.score(test_X_selected, test_Y)\n",
    "    print('k:', k)\n",
    "    print('OLS Model Accuracy:', score)\n",
    "    scores.append(score)\n",
    "    \n",
    "    if score > best_score:\n",
    "        best_score = score\n",
    "        best_k = k\n"
   ]
  },
  {
   "cell_type": "code",
   "execution_count": 18,
   "metadata": {},
   "outputs": [
    {
     "name": "stdout",
     "output_type": "stream",
     "text": [
      "scores [0.5166851033488691, 0.5553979033604741, 0.563011306249922, 0.5647267952390185]\n",
      "ks [5, 10, 15, 20]\n"
     ]
    },
    {
     "data": {
      "text/plain": [
       "[<matplotlib.lines.Line2D at 0x120e61580>]"
      ]
     },
     "execution_count": 18,
     "metadata": {},
     "output_type": "execute_result"
    },
    {
     "data": {
      "image/png": "[encoded data removed]",
      "text/plain": [
       "<Figure size 432x288 with 1 Axes>"
      ]
     },
     "metadata": {
      "needs_background": "light"
     },
     "output_type": "display_data"
    }
   ],
   "source": [
    "print('scores', scores)\n",
    "print('ks', ks)\n",
    "plt.plot(ks, scores)"
   ]
  },
  {
   "cell_type": "code",
   "execution_count": 19,
   "metadata": {},
   "outputs": [
    {
     "name": "stdout",
     "output_type": "stream",
     "text": [
      "LASSO retained features Index(['BedroomAbvGr', 'KitchenAbvGr', 'GarageArea', 'OpenPorchSF',\n",
      "       'ScreenPorch', 'MSZoning_RM', 'Street_Pave', 'LotShape_IR2',\n",
      "       'LotConfig_CulDSac', 'Neighborhood_NridgHt', 'Neighborhood_StoneBr',\n",
      "       'Neighborhood_Veenker', 'Condition1_Norm', 'Condition1_RRAe',\n",
      "       'CentralAir_Y', 'SaleCondition_Partial'],\n",
      "      dtype='object')\n"
     ]
    }
   ],
   "source": [
    "ols = LinearRegression()\r\n",
    "sfs = SequentialFeatureSelector(ols, direction='forward', n_features_to_select=16, cv=10)\r\n",
    "sfs.fit(train_X_removed_low_var, train_Y)\r\n",
    "\r\n",
    "retained_features = features_removed_low_var[sfs.get_support() == True]\r\n",
    "print('LASSO retained features', retained_features)"
   ]
  },
  {
   "cell_type": "code",
   "execution_count": 20,
   "metadata": {},
   "outputs": [
    {
     "name": "stdout",
     "output_type": "stream",
     "text": [
      "k: 5\n",
      "OLS Model Accuracy: 0.5166851033488691\n",
      "k: 10\n",
      "OLS Model Accuracy: 0.5553979033604741\n",
      "k: 15\n",
      "OLS Model Accuracy: 0.5637763109258505\n",
      "k: 20\n",
      "OLS Model Accuracy: 0.5647267952390185\n",
      "scores [0.5166851033488691, 0.5553979033604741, 0.5637763109258505, 0.5647267952390185]\n",
      "ks [5, 10, 15, 20]\n"
     ]
    },
    {
     "data": {
      "text/plain": [
       "[<matplotlib.lines.Line2D at 0x121994910>]"
      ]
     },
     "execution_count": 20,
     "metadata": {},
     "output_type": "execute_result"
    },
    {
     "data": {
      "image/png": "[encoded data removed]",
      "text/plain": [
       "<Figure size 432x288 with 1 Axes>"
      ]
     },
     "metadata": {
      "needs_background": "light"
     },
     "output_type": "display_data"
    }
   ],
   "source": [
    "\n",
    "# Backward stepwise (linear) regression with 10-fold cross validation\n",
    "best_score = 0\n",
    "best_k = 0\n",
    "\n",
    "ks = [k for k in range (5, 24, 5)]\n",
    "scores = []\n",
    "\n",
    "for k in ks:\n",
    "    ols = LinearRegression()\n",
    "    sfs = SequentialFeatureSelector(ols, direction='backward', n_features_to_select=k, cv=10)\n",
    "    sfs.fit(train_X_removed_low_var, train_Y)\n",
    "    \n",
    "    train_X_selected = sfs.transform(train_X_removed_low_var)\n",
    "    test_X_selected = sfs.transform(test_X_removed_low_var)\n",
    "    \n",
    "    ols.fit(train_X_selected, train_Y)\n",
    "    pred_Y = ols.predict(test_X_selected)\n",
    "    score = ols.score(test_X_selected, test_Y)\n",
    "    print('k:', k)\n",
    "    print('OLS Model Accuracy:', score)\n",
    "    scores.append(score)\n",
    "    \n",
    "    if score > best_score:\n",
    "        best_score = score\n",
    "        best_k = k\n",
    "        \n",
    "print('scores', scores)\n",
    "print('ks', ks)\n",
    "plt.plot(ks, scores)"
   ]
  },
  {
   "cell_type": "code",
   "execution_count": 21,
   "metadata": {},
   "outputs": [
    {
     "name": "stdout",
     "output_type": "stream",
     "text": [
      "Best alpha: 1000.0\n",
      "MSE: 848164577.8588246\n",
      "R square: 0.8596563830916287\n"
     ]
    }
   ],
   "source": [
    "# Adding all the quadratic features - Ridge\n",
    "poly_reg = PolynomialFeatures(degree=2)\n",
    "\n",
    "train_X_trans_poly = poly_reg.fit_transform(train_X_trans)\n",
    "test_X_trans_poly = poly_reg.transform(test_X_trans)\n",
    "\n",
    "rcv = RidgeCV(alphas=[1e-3, 1e-2, 1e-1, 1, 10, 100, 1000]).fit(train_X_trans_poly, train_Y)\n",
    "pred_Y = rcv.predict(test_X_trans_poly)\n",
    "# print(pred_Y)\n",
    "# print(test_Y.values)\n",
    "print('Best alpha:', rcv.alpha_)\n",
    "print('MSE:', mean_squared_error(test_Y.values, pred_Y))\n",
    "print('R:', r2_score(test_Y.values, pred_Y))"
   ]
  },
  {
   "cell_type": "code",
   "execution_count": 22,
   "metadata": {},
   "outputs": [
    {
     "name": "stderr",
     "output_type": "stream",
     "text": [
      "/Library/Frameworks/Python.framework/Versions/3.8/lib/python3.8/site-packages/sklearn/linear_model/_coordinate_descent.py:1570: DataConversionWarning: A column-vector y was passed when a 1d array was expected. Please change the shape of y to (n_samples, ), for example using ravel().\n",
      "  y = column_or_1d(y, warn=True)\n"
     ]
    },
    {
     "ename": "KeyboardInterrupt",
     "evalue": "",
     "output_type": "error",
     "traceback": [
      "\u001b[0;31m---------------------------------------------------------------------------\u001b[0m",
      "\u001b[0;31mKeyboardInterrupt\u001b[0m                         Traceback (most recent call last)",
      "\u001b[0;32m/var/folders/tk/blxd1y755yv39gc7q6mzhlqw0000gn/T/ipykernel_79961/2543387477.py\u001b[0m in \u001b[0;36m<module>\u001b[0;34m\u001b[0m\n\u001b[1;32m      3\u001b[0m \u001b[0;31m##############################################################################\u001b[0m\u001b[0;34m\u001b[0m\u001b[0;34m\u001b[0m\u001b[0;34m\u001b[0m\u001b[0m\n\u001b[1;32m      4\u001b[0m \u001b[0;34m\u001b[0m\u001b[0m\n\u001b[0;32m----> 5\u001b[0;31m \u001b[0mlcv\u001b[0m \u001b[0;34m=\u001b[0m \u001b[0mLassoCV\u001b[0m\u001b[0;34m(\u001b[0m\u001b[0mcv\u001b[0m\u001b[0;34m=\u001b[0m\u001b[0;36m10\u001b[0m\u001b[0;34m,\u001b[0m \u001b[0mrandom_state\u001b[0m\u001b[0;34m=\u001b[0m\u001b[0;36m0\u001b[0m\u001b[0;34m)\u001b[0m\u001b[0;34m.\u001b[0m\u001b[0mfit\u001b[0m\u001b[0;34m(\u001b[0m\u001b[0mtrain_X_trans_poly\u001b[0m\u001b[0;34m,\u001b[0m \u001b[0mtrain_Y\u001b[0m\u001b[0;34m.\u001b[0m\u001b[0mvalues\u001b[0m\u001b[0;34m)\u001b[0m\u001b[0;34m\u001b[0m\u001b[0;34m\u001b[0m\u001b[0m\n\u001b[0m\u001b[1;32m      6\u001b[0m \u001b[0mlcv\u001b[0m\u001b[0;34m.\u001b[0m\u001b[0mfit\u001b[0m\u001b[0;34m(\u001b[0m\u001b[0mtrain_X_trans_poly\u001b[0m\u001b[0;34m,\u001b[0m \u001b[0mtrain_Y\u001b[0m\u001b[0;34m.\u001b[0m\u001b[0mvalues\u001b[0m\u001b[0;34m.\u001b[0m\u001b[0mravel\u001b[0m\u001b[0;34m(\u001b[0m\u001b[0;34m)\u001b[0m\u001b[0;34m)\u001b[0m\u001b[0;34m\u001b[0m\u001b[0;34m\u001b[0m\u001b[0m\n\u001b[1;32m      7\u001b[0m \u001b[0mpred_Y\u001b[0m \u001b[0;34m=\u001b[0m \u001b[0mlcv\u001b[0m\u001b[0;34m.\u001b[0m\u001b[0mpredict\u001b[0m\u001b[0;34m(\u001b[0m\u001b[0mtest_X_trans_poly\u001b[0m\u001b[0;34m)\u001b[0m\u001b[0;34m\u001b[0m\u001b[0;34m\u001b[0m\u001b[0m\n",
      "\u001b[0;32m/Library/Frameworks/Python.framework/Versions/3.8/lib/python3.8/site-packages/sklearn/linear_model/_coordinate_descent.py\u001b[0m in \u001b[0;36mfit\u001b[0;34m(self, X, y, sample_weight)\u001b[0m\n\u001b[1;32m   1667\u001b[0m             \u001b[0;32mfor\u001b[0m \u001b[0mtrain\u001b[0m\u001b[0;34m,\u001b[0m \u001b[0mtest\u001b[0m \u001b[0;32min\u001b[0m \u001b[0mfolds\u001b[0m\u001b[0;34m\u001b[0m\u001b[0;34m\u001b[0m\u001b[0m\n\u001b[1;32m   1668\u001b[0m         )\n\u001b[0;32m-> 1669\u001b[0;31m         mse_paths = Parallel(\n\u001b[0m\u001b[1;32m   1670\u001b[0m             \u001b[0mn_jobs\u001b[0m\u001b[0;34m=\u001b[0m\u001b[0mself\u001b[0m\u001b[0;34m.\u001b[0m\u001b[0mn_jobs\u001b[0m\u001b[0;34m,\u001b[0m\u001b[0;34m\u001b[0m\u001b[0;34m\u001b[0m\u001b[0m\n\u001b[1;32m   1671\u001b[0m             \u001b[0mverbose\u001b[0m\u001b[0;34m=\u001b[0m\u001b[0mself\u001b[0m\u001b[0;34m.\u001b[0m\u001b[0mverbose\u001b[0m\u001b[0;34m,\u001b[0m\u001b[0;34m\u001b[0m\u001b[0;34m\u001b[0m\u001b[0m\n",
      "\u001b[0;32m/Library/Frameworks/Python.framework/Versions/3.8/lib/python3.8/site-packages/joblib/parallel.py\u001b[0m in \u001b[0;36m__call__\u001b[0;34m(self, iterable)\u001b[0m\n\u001b[1;32m   1049\u001b[0m                 \u001b[0mself\u001b[0m\u001b[0;34m.\u001b[0m\u001b[0m_iterating\u001b[0m \u001b[0;34m=\u001b[0m \u001b[0mself\u001b[0m\u001b[0;34m.\u001b[0m\u001b[0m_original_iterator\u001b[0m \u001b[0;32mis\u001b[0m \u001b[0;32mnot\u001b[0m \u001b[0;32mNone\u001b[0m\u001b[0;34m\u001b[0m\u001b[0;34m\u001b[0m\u001b[0m\n\u001b[1;32m   1050\u001b[0m \u001b[0;34m\u001b[0m\u001b[0m\n\u001b[0;32m-> 1051\u001b[0;31m             \u001b[0;32mwhile\u001b[0m \u001b[0mself\u001b[0m\u001b[0;34m.\u001b[0m\u001b[0mdispatch_one_batch\u001b[0m\u001b[0;34m(\u001b[0m\u001b[0miterator\u001b[0m\u001b[0;34m)\u001b[0m\u001b[0;34m:\u001b[0m\u001b[0;34m\u001b[0m\u001b[0;34m\u001b[0m\u001b[0m\n\u001b[0m\u001b[1;32m   1052\u001b[0m                 \u001b[0;32mpass\u001b[0m\u001b[0;34m\u001b[0m\u001b[0;34m\u001b[0m\u001b[0m\n\u001b[1;32m   1053\u001b[0m \u001b[0;34m\u001b[0m\u001b[0m\n",
      "\u001b[0;32m/Library/Frameworks/Python.framework/Versions/3.8/lib/python3.8/site-packages/joblib/parallel.py\u001b[0m in \u001b[0;36mdispatch_one_batch\u001b[0;34m(self, iterator)\u001b[0m\n\u001b[1;32m    864\u001b[0m                 \u001b[0;32mreturn\u001b[0m \u001b[0;32mFalse\u001b[0m\u001b[0;34m\u001b[0m\u001b[0;34m\u001b[0m\u001b[0m\n\u001b[1;32m    865\u001b[0m             \u001b[0;32melse\u001b[0m\u001b[0;34m:\u001b[0m\u001b[0;34m\u001b[0m\u001b[0;34m\u001b[0m\u001b[0m\n\u001b[0;32m--> 866\u001b[0;31m                 \u001b[0mself\u001b[0m\u001b[0;34m.\u001b[0m\u001b[0m_dispatch\u001b[0m\u001b[0;34m(\u001b[0m\u001b[0mtasks\u001b[0m\u001b[0;34m)\u001b[0m\u001b[0;34m\u001b[0m\u001b[0;34m\u001b[0m\u001b[0m\n\u001b[0m\u001b[1;32m    867\u001b[0m                 \u001b[0;32mreturn\u001b[0m \u001b[0;32mTrue\u001b[0m\u001b[0;34m\u001b[0m\u001b[0;34m\u001b[0m\u001b[0m\n\u001b[1;32m    868\u001b[0m \u001b[0;34m\u001b[0m\u001b[0m\n",
      "\u001b[0;32m/Library/Frameworks/Python.framework/Versions/3.8/lib/python3.8/site-packages/joblib/parallel.py\u001b[0m in \u001b[0;36m_dispatch\u001b[0;34m(self, batch)\u001b[0m\n\u001b[1;32m    782\u001b[0m         \u001b[0;32mwith\u001b[0m \u001b[0mself\u001b[0m\u001b[0;34m.\u001b[0m\u001b[0m_lock\u001b[0m\u001b[0;34m:\u001b[0m\u001b[0;34m\u001b[0m\u001b[0;34m\u001b[0m\u001b[0m\n\u001b[1;32m    783\u001b[0m             \u001b[0mjob_idx\u001b[0m \u001b[0;34m=\u001b[0m \u001b[0mlen\u001b[0m\u001b[0;34m(\u001b[0m\u001b[0mself\u001b[0m\u001b[0;34m.\u001b[0m\u001b[0m_jobs\u001b[0m\u001b[0;34m)\u001b[0m\u001b[0;34m\u001b[0m\u001b[0;34m\u001b[0m\u001b[0m\n\u001b[0;32m--> 784\u001b[0;31m             \u001b[0mjob\u001b[0m \u001b[0;34m=\u001b[0m \u001b[0mself\u001b[0m\u001b[0;34m.\u001b[0m\u001b[0m_backend\u001b[0m\u001b[0;34m.\u001b[0m\u001b[0mapply_async\u001b[0m\u001b[0;34m(\u001b[0m\u001b[0mbatch\u001b[0m\u001b[0;34m,\u001b[0m \u001b[0mcallback\u001b[0m\u001b[0;34m=\u001b[0m\u001b[0mcb\u001b[0m\u001b[0;34m)\u001b[0m\u001b[0;34m\u001b[0m\u001b[0;34m\u001b[0m\u001b[0m\n\u001b[0m\u001b[1;32m    785\u001b[0m             \u001b[0;31m# A job can complete so quickly than its callback is\u001b[0m\u001b[0;34m\u001b[0m\u001b[0;34m\u001b[0m\u001b[0;34m\u001b[0m\u001b[0m\n\u001b[1;32m    786\u001b[0m             \u001b[0;31m# called before we get here, causing self._jobs to\u001b[0m\u001b[0;34m\u001b[0m\u001b[0;34m\u001b[0m\u001b[0;34m\u001b[0m\u001b[0m\n",
      "\u001b[0;32m/Library/Frameworks/Python.framework/Versions/3.8/lib/python3.8/site-packages/joblib/_parallel_backends.py\u001b[0m in \u001b[0;36mapply_async\u001b[0;34m(self, func, callback)\u001b[0m\n\u001b[1;32m    206\u001b[0m     \u001b[0;32mdef\u001b[0m \u001b[0mapply_async\u001b[0m\u001b[0;34m(\u001b[0m\u001b[0mself\u001b[0m\u001b[0;34m,\u001b[0m \u001b[0mfunc\u001b[0m\u001b[0;34m,\u001b[0m \u001b[0mcallback\u001b[0m\u001b[0;34m=\u001b[0m\u001b[0;32mNone\u001b[0m\u001b[0;34m)\u001b[0m\u001b[0;34m:\u001b[0m\u001b[0;34m\u001b[0m\u001b[0;34m\u001b[0m\u001b[0m\n\u001b[1;32m    207\u001b[0m         \u001b[0;34m\"\"\"Schedule a func to be run\"\"\"\u001b[0m\u001b[0;34m\u001b[0m\u001b[0;34m\u001b[0m\u001b[0m\n\u001b[0;32m--> 208\u001b[0;31m         \u001b[0mresult\u001b[0m \u001b[0;34m=\u001b[0m \u001b[0mImmediateResult\u001b[0m\u001b[0;34m(\u001b[0m\u001b[0mfunc\u001b[0m\u001b[0;34m)\u001b[0m\u001b[0;34m\u001b[0m\u001b[0;34m\u001b[0m\u001b[0m\n\u001b[0m\u001b[1;32m    209\u001b[0m         \u001b[0;32mif\u001b[0m \u001b[0mcallback\u001b[0m\u001b[0;34m:\u001b[0m\u001b[0;34m\u001b[0m\u001b[0;34m\u001b[0m\u001b[0m\n\u001b[1;32m    210\u001b[0m             \u001b[0mcallback\u001b[0m\u001b[0;34m(\u001b[0m\u001b[0mresult\u001b[0m\u001b[0;34m)\u001b[0m\u001b[0;34m\u001b[0m\u001b[0;34m\u001b[0m\u001b[0m\n",
      "\u001b[0;32m/Library/Frameworks/Python.framework/Versions/3.8/lib/python3.8/site-packages/joblib/_parallel_backends.py\u001b[0m in \u001b[0;36m__init__\u001b[0;34m(self, batch)\u001b[0m\n\u001b[1;32m    570\u001b[0m         \u001b[0;31m# Don't delay the application, to avoid keeping the input\u001b[0m\u001b[0;34m\u001b[0m\u001b[0;34m\u001b[0m\u001b[0;34m\u001b[0m\u001b[0m\n\u001b[1;32m    571\u001b[0m         \u001b[0;31m# arguments in memory\u001b[0m\u001b[0;34m\u001b[0m\u001b[0;34m\u001b[0m\u001b[0;34m\u001b[0m\u001b[0m\n\u001b[0;32m--> 572\u001b[0;31m         \u001b[0mself\u001b[0m\u001b[0;34m.\u001b[0m\u001b[0mresults\u001b[0m \u001b[0;34m=\u001b[0m \u001b[0mbatch\u001b[0m\u001b[0;34m(\u001b[0m\u001b[0;34m)\u001b[0m\u001b[0;34m\u001b[0m\u001b[0;34m\u001b[0m\u001b[0m\n\u001b[0m\u001b[1;32m    573\u001b[0m \u001b[0;34m\u001b[0m\u001b[0m\n\u001b[1;32m    574\u001b[0m     \u001b[0;32mdef\u001b[0m \u001b[0mget\u001b[0m\u001b[0;34m(\u001b[0m\u001b[0mself\u001b[0m\u001b[0;34m)\u001b[0m\u001b[0;34m:\u001b[0m\u001b[0;34m\u001b[0m\u001b[0;34m\u001b[0m\u001b[0m\n",
      "\u001b[0;32m/Library/Frameworks/Python.framework/Versions/3.8/lib/python3.8/site-packages/joblib/parallel.py\u001b[0m in \u001b[0;36m__call__\u001b[0;34m(self)\u001b[0m\n\u001b[1;32m    260\u001b[0m         \u001b[0;31m# change the default number of processes to -1\u001b[0m\u001b[0;34m\u001b[0m\u001b[0;34m\u001b[0m\u001b[0;34m\u001b[0m\u001b[0m\n\u001b[1;32m    261\u001b[0m         \u001b[0;32mwith\u001b[0m \u001b[0mparallel_backend\u001b[0m\u001b[0;34m(\u001b[0m\u001b[0mself\u001b[0m\u001b[0;34m.\u001b[0m\u001b[0m_backend\u001b[0m\u001b[0;34m,\u001b[0m \u001b[0mn_jobs\u001b[0m\u001b[0;34m=\u001b[0m\u001b[0mself\u001b[0m\u001b[0;34m.\u001b[0m\u001b[0m_n_jobs\u001b[0m\u001b[0;34m)\u001b[0m\u001b[0;34m:\u001b[0m\u001b[0;34m\u001b[0m\u001b[0;34m\u001b[0m\u001b[0m\n\u001b[0;32m--> 262\u001b[0;31m             return [func(*args, **kwargs)\n\u001b[0m\u001b[1;32m    263\u001b[0m                     for func, args, kwargs in self.items]\n\u001b[1;32m    264\u001b[0m \u001b[0;34m\u001b[0m\u001b[0m\n",
      "\u001b[0;32m/Library/Frameworks/Python.framework/Versions/3.8/lib/python3.8/site-packages/joblib/parallel.py\u001b[0m in \u001b[0;36m<listcomp>\u001b[0;34m(.0)\u001b[0m\n\u001b[1;32m    260\u001b[0m         \u001b[0;31m# change the default number of processes to -1\u001b[0m\u001b[0;34m\u001b[0m\u001b[0;34m\u001b[0m\u001b[0;34m\u001b[0m\u001b[0m\n\u001b[1;32m    261\u001b[0m         \u001b[0;32mwith\u001b[0m \u001b[0mparallel_backend\u001b[0m\u001b[0;34m(\u001b[0m\u001b[0mself\u001b[0m\u001b[0;34m.\u001b[0m\u001b[0m_backend\u001b[0m\u001b[0;34m,\u001b[0m \u001b[0mn_jobs\u001b[0m\u001b[0;34m=\u001b[0m\u001b[0mself\u001b[0m\u001b[0;34m.\u001b[0m\u001b[0m_n_jobs\u001b[0m\u001b[0;34m)\u001b[0m\u001b[0;34m:\u001b[0m\u001b[0;34m\u001b[0m\u001b[0;34m\u001b[0m\u001b[0m\n\u001b[0;32m--> 262\u001b[0;31m             return [func(*args, **kwargs)\n\u001b[0m\u001b[1;32m    263\u001b[0m                     for func, args, kwargs in self.items]\n\u001b[1;32m    264\u001b[0m \u001b[0;34m\u001b[0m\u001b[0m\n",
      "\u001b[0;32m/Library/Frameworks/Python.framework/Versions/3.8/lib/python3.8/site-packages/sklearn/utils/fixes.py\u001b[0m in \u001b[0;36m__call__\u001b[0;34m(self, *args, **kwargs)\u001b[0m\n\u001b[1;32m    207\u001b[0m     \u001b[0;32mdef\u001b[0m \u001b[0m__call__\u001b[0m\u001b[0;34m(\u001b[0m\u001b[0mself\u001b[0m\u001b[0;34m,\u001b[0m \u001b[0;34m*\u001b[0m\u001b[0margs\u001b[0m\u001b[0;34m,\u001b[0m \u001b[0;34m**\u001b[0m\u001b[0mkwargs\u001b[0m\u001b[0;34m)\u001b[0m\u001b[0;34m:\u001b[0m\u001b[0;34m\u001b[0m\u001b[0;34m\u001b[0m\u001b[0m\n\u001b[1;32m    208\u001b[0m         \u001b[0;32mwith\u001b[0m \u001b[0mconfig_context\u001b[0m\u001b[0;34m(\u001b[0m\u001b[0;34m**\u001b[0m\u001b[0mself\u001b[0m\u001b[0;34m.\u001b[0m\u001b[0mconfig\u001b[0m\u001b[0;34m)\u001b[0m\u001b[0;34m:\u001b[0m\u001b[0;34m\u001b[0m\u001b[0;34m\u001b[0m\u001b[0m\n\u001b[0;32m--> 209\u001b[0;31m             \u001b[0;32mreturn\u001b[0m \u001b[0mself\u001b[0m\u001b[0;34m.\u001b[0m\u001b[0mfunction\u001b[0m\u001b[0;34m(\u001b[0m\u001b[0;34m*\u001b[0m\u001b[0margs\u001b[0m\u001b[0;34m,\u001b[0m \u001b[0;34m**\u001b[0m\u001b[0mkwargs\u001b[0m\u001b[0;34m)\u001b[0m\u001b[0;34m\u001b[0m\u001b[0;34m\u001b[0m\u001b[0m\n\u001b[0m\u001b[1;32m    210\u001b[0m \u001b[0;34m\u001b[0m\u001b[0m\n\u001b[1;32m    211\u001b[0m \u001b[0;34m\u001b[0m\u001b[0m\n",
      "\u001b[0;32m/Library/Frameworks/Python.framework/Versions/3.8/lib/python3.8/site-packages/sklearn/linear_model/_coordinate_descent.py\u001b[0m in \u001b[0;36m_path_residuals\u001b[0;34m(X, y, sample_weight, train, test, normalize, fit_intercept, path, path_params, alphas, l1_ratio, X_order, dtype)\u001b[0m\n\u001b[1;32m   1399\u001b[0m     \u001b[0;31m# X is copied and a reference is kept here\u001b[0m\u001b[0;34m\u001b[0m\u001b[0;34m\u001b[0m\u001b[0;34m\u001b[0m\u001b[0m\n\u001b[1;32m   1400\u001b[0m     \u001b[0mX_train\u001b[0m \u001b[0;34m=\u001b[0m \u001b[0mcheck_array\u001b[0m\u001b[0;34m(\u001b[0m\u001b[0mX_train\u001b[0m\u001b[0;34m,\u001b[0m \u001b[0maccept_sparse\u001b[0m\u001b[0;34m=\u001b[0m\u001b[0;34m\"csc\"\u001b[0m\u001b[0;34m,\u001b[0m \u001b[0mdtype\u001b[0m\u001b[0;34m=\u001b[0m\u001b[0mdtype\u001b[0m\u001b[0;34m,\u001b[0m \u001b[0morder\u001b[0m\u001b[0;34m=\u001b[0m\u001b[0mX_order\u001b[0m\u001b[0;34m)\u001b[0m\u001b[0;34m\u001b[0m\u001b[0;34m\u001b[0m\u001b[0m\n\u001b[0;32m-> 1401\u001b[0;31m     \u001b[0malphas\u001b[0m\u001b[0;34m,\u001b[0m \u001b[0mcoefs\u001b[0m\u001b[0;34m,\u001b[0m \u001b[0m_\u001b[0m \u001b[0;34m=\u001b[0m \u001b[0mpath\u001b[0m\u001b[0;34m(\u001b[0m\u001b[0mX_train\u001b[0m\u001b[0;34m,\u001b[0m \u001b[0my_train\u001b[0m\u001b[0;34m,\u001b[0m \u001b[0;34m**\u001b[0m\u001b[0mpath_params\u001b[0m\u001b[0;34m)\u001b[0m\u001b[0;34m\u001b[0m\u001b[0;34m\u001b[0m\u001b[0m\n\u001b[0m\u001b[1;32m   1402\u001b[0m     \u001b[0;32mdel\u001b[0m \u001b[0mX_train\u001b[0m\u001b[0;34m,\u001b[0m \u001b[0my_train\u001b[0m\u001b[0;34m\u001b[0m\u001b[0;34m\u001b[0m\u001b[0m\n\u001b[1;32m   1403\u001b[0m \u001b[0;34m\u001b[0m\u001b[0m\n",
      "\u001b[0;32m/Library/Frameworks/Python.framework/Versions/3.8/lib/python3.8/site-packages/sklearn/linear_model/_coordinate_descent.py\u001b[0m in \u001b[0;36mlasso_path\u001b[0;34m(X, y, eps, n_alphas, alphas, precompute, Xy, copy_X, coef_init, verbose, return_n_iter, positive, **params)\u001b[0m\n\u001b[1;32m    345\u001b[0m      [0.2159048  0.4425765  0.23668876]]\n\u001b[1;32m    346\u001b[0m     \"\"\"\n\u001b[0;32m--> 347\u001b[0;31m     return enet_path(\n\u001b[0m\u001b[1;32m    348\u001b[0m         \u001b[0mX\u001b[0m\u001b[0;34m,\u001b[0m\u001b[0;34m\u001b[0m\u001b[0;34m\u001b[0m\u001b[0m\n\u001b[1;32m    349\u001b[0m         \u001b[0my\u001b[0m\u001b[0;34m,\u001b[0m\u001b[0;34m\u001b[0m\u001b[0;34m\u001b[0m\u001b[0m\n",
      "\u001b[0;32m/Library/Frameworks/Python.framework/Versions/3.8/lib/python3.8/site-packages/sklearn/linear_model/_coordinate_descent.py\u001b[0m in \u001b[0;36menet_path\u001b[0;34m(X, y, l1_ratio, eps, n_alphas, alphas, precompute, Xy, copy_X, coef_init, verbose, return_n_iter, positive, check_input, **params)\u001b[0m\n\u001b[1;32m    643\u001b[0m             )\n\u001b[1;32m    644\u001b[0m         \u001b[0;32melif\u001b[0m \u001b[0mprecompute\u001b[0m \u001b[0;32mis\u001b[0m \u001b[0;32mFalse\u001b[0m\u001b[0;34m:\u001b[0m\u001b[0;34m\u001b[0m\u001b[0;34m\u001b[0m\u001b[0m\n\u001b[0;32m--> 645\u001b[0;31m             model = cd_fast.enet_coordinate_descent(\n\u001b[0m\u001b[1;32m    646\u001b[0m                 \u001b[0mcoef_\u001b[0m\u001b[0;34m,\u001b[0m \u001b[0ml1_reg\u001b[0m\u001b[0;34m,\u001b[0m \u001b[0ml2_reg\u001b[0m\u001b[0;34m,\u001b[0m \u001b[0mX\u001b[0m\u001b[0;34m,\u001b[0m \u001b[0my\u001b[0m\u001b[0;34m,\u001b[0m \u001b[0mmax_iter\u001b[0m\u001b[0;34m,\u001b[0m \u001b[0mtol\u001b[0m\u001b[0;34m,\u001b[0m \u001b[0mrng\u001b[0m\u001b[0;34m,\u001b[0m \u001b[0mrandom\u001b[0m\u001b[0;34m,\u001b[0m \u001b[0mpositive\u001b[0m\u001b[0;34m\u001b[0m\u001b[0;34m\u001b[0m\u001b[0m\n\u001b[1;32m    647\u001b[0m             )\n",
      "\u001b[0;31mKeyboardInterrupt\u001b[0m: "
     ]
    }
   ],
   "source": [
    "# Adding all the quadratic features - Lasso\n",
    "\n",
    "lcv = LassoCV(cv=10, random_state=0).fit(train_X_trans_poly, train_Y.values)\n",
    "lcv.fit(train_X_trans_poly, train_Y.values.ravel())\n",
    "pred_Y = lcv.predict(test_X_trans_poly)\n",
    "\n",
    "print('Best alpha:', lcv.alpha_)\n",
    "print('MSE:', mean_squared_error(test_Y.values.ravel(), pred_Y))\n",
    "print('R:', r2_score(test_Y.values.ravel(), pred_Y))\n",
    "\n"
   ]
  },
  {
   "cell_type": "code",
   "execution_count": 28,
   "metadata": {},
   "outputs": [
    {
     "name": "stdout",
     "output_type": "stream",
     "text": [
      "           0         1         2         3         4         5         6    \\\n",
      "0    -0.874711  0.363929 -0.751101  0.400766 -0.340945 -1.072885  0.063273   \n",
      "1    -0.874711  0.897861 -0.054877  0.400766 -0.439695 -1.214908  1.063027   \n",
      "2     0.061351  0.809646 -0.751101 -0.497418  0.844059  0.678742  0.772989   \n",
      "3     0.061351  0.032064 -0.054877  0.400766  0.876976  0.678742  0.357706   \n",
      "4     1.465443 -0.971808  1.337571 -0.497418  0.679475  0.394694 -0.387166   \n",
      "...        ...       ...       ...       ...       ...       ...       ...   \n",
      "1454  2.401505 -1.591330 -1.447325  1.298950 -0.044694 -0.646813 -0.965046   \n",
      "1455  2.401505 -1.599808 -1.447325 -0.497418 -0.044694 -0.646813 -0.411336   \n",
      "1456 -0.874711  2.055150 -0.751101  1.298950 -0.373861  0.584059  1.724403   \n",
      "1457  0.646389  0.125527 -0.751101 -0.497418  0.679475  0.394694 -0.224568   \n",
      "1458  0.061351 -0.038790  0.641347 -0.497418  0.712392  0.489377  0.700479   \n",
      "\n",
      "           7         8         9    ...       119       120       121  \\\n",
      "0     0.517171 -0.650396 -0.370681  ... -0.052432 -0.045392 -0.295268   \n",
      "1    -0.297800 -0.339262  0.638925  ... -0.052432 -0.045392 -0.295268   \n",
      "2    -0.297800 -0.954667 -0.266785  ... -0.052432 -0.045392 -0.295268   \n",
      "3    -0.297800 -0.526857 -0.271302  ... -0.052432 -0.045392 -0.295268   \n",
      "4    -0.297800  1.058554  0.528252  ... -0.052432 -0.045392 -0.295268   \n",
      "...        ...       ...       ...  ...       ...       ...       ...   \n",
      "1454 -0.297800 -0.018977 -1.129580  ... -0.052432 -0.045392 -0.295268   \n",
      "1455 -0.297800 -0.595490 -1.129580  ... -0.052432 -0.045392 -0.295268   \n",
      "1456 -0.297800 -1.268089  0.401769  ... -0.052432 -0.045392 -0.295268   \n",
      "1457 -0.297800  0.047368 -0.302923  ... -0.052432 -0.045392 -0.295268   \n",
      "1458 -0.297800 -0.723604 -0.113198  ... -0.052432 -0.045392 -0.295268   \n",
      "\n",
      "           122       123       124       125       126       127       128  \n",
      "0    -0.052432  0.399722 -0.074253 -0.091066 -0.134699  0.460211 -0.299365  \n",
      "1    -0.052432  0.399722 -0.074253 -0.091066 -0.134699  0.460211 -0.299365  \n",
      "2    -0.052432  0.399722 -0.074253 -0.091066 -0.134699  0.460211 -0.299365  \n",
      "3    -0.052432  0.399722 -0.074253 -0.091066 -0.134699  0.460211 -0.299365  \n",
      "4    -0.052432  0.399722 -0.074253 -0.091066 -0.134699  0.460211 -0.299365  \n",
      "...        ...       ...       ...       ...       ...       ...       ...  \n",
      "1454 -0.052432  0.399722 -0.074253 -0.091066 -0.134699  0.460211 -0.299365  \n",
      "1455 -0.052432  0.399722 -0.074253 -0.091066 -0.134699 -2.172917 -0.299365  \n",
      "1456 -0.052432  0.399722 -0.074253 -0.091066 -0.134699 -2.172917 -0.299365  \n",
      "1457 -0.052432  0.399722 -0.074253 -0.091066 -0.134699  0.460211 -0.299365  \n",
      "1458 -0.052432  0.399722 -0.074253 -0.091066 -0.134699  0.460211 -0.299365  \n",
      "\n",
      "[1459 rows x 129 columns]\n",
      "           0         1         2         3         4         5         6    \\\n",
      "0     0.073375 -0.207142  0.651479 -0.517200  1.050994  0.878668  0.575425   \n",
      "1    -0.872563 -0.091886 -0.071836  2.179628  0.156734 -0.429577  1.171992   \n",
      "2     0.073375  0.073480  0.651479 -0.517200  0.984752  0.830215  0.092907   \n",
      "3     0.309859 -0.096897  0.651479 -0.517200 -1.863632 -0.720298 -0.499274   \n",
      "4     0.073375  0.375148  1.374795 -0.517200  0.951632  0.733308  0.463568   \n",
      "...        ...       ...       ...       ...       ...       ...       ...   \n",
      "1455  0.073375 -0.260560 -0.071836 -0.517200  0.918511  0.733308 -0.973018   \n",
      "1456 -0.872563  0.266407 -0.071836  0.381743  0.222975  0.151865  0.759659   \n",
      "1457  0.309859 -0.147810  0.651479  3.078570 -1.002492  1.024029 -0.369871   \n",
      "1458 -0.872563 -0.080160 -0.795151  0.381743 -0.704406  0.539493 -0.865548   \n",
      "1459 -0.872563 -0.058112 -0.795151  0.381743 -0.207594 -0.962566  0.847389   \n",
      "\n",
      "           7         8         9    ...       120       121       122  \\\n",
      "0    -0.288653 -0.944591 -0.459303  ... -0.058621 -0.058621 -0.301962   \n",
      "1    -0.288653 -0.641228  0.466465  ... -0.058621 -0.058621 -0.301962   \n",
      "2    -0.288653 -0.301643 -0.313369  ... -0.058621 -0.058621 -0.301962   \n",
      "3    -0.288653 -0.061670 -0.687324  ... -0.058621 -0.058621 -0.301962   \n",
      "4    -0.288653 -0.174865  0.199680  ... -0.058621 -0.058621 -0.301962   \n",
      "...        ...       ...       ...  ...       ...       ...       ...   \n",
      "1455 -0.288653  0.873321 -0.238122  ... -0.058621 -0.058621 -0.301962   \n",
      "1456  0.722112  0.049262  1.104925  ... -0.058621 -0.058621 -0.301962   \n",
      "1457 -0.288653  0.701265  0.215641  ... -0.058621 -0.058621 -0.301962   \n",
      "1458  6.092188 -1.284176  0.046905  ... -0.058621 -0.058621 -0.301962   \n",
      "1459  1.509640 -0.976285  0.452784  ... -0.058621 -0.058621 -0.301962   \n",
      "\n",
      "           123       124       125       126       127       128       129  \n",
      "0    -0.045376  0.390293 -0.052414 -0.091035 -0.117851  0.467651 -0.305995  \n",
      "1    -0.045376  0.390293 -0.052414 -0.091035 -0.117851  0.467651 -0.305995  \n",
      "2    -0.045376  0.390293 -0.052414 -0.091035 -0.117851  0.467651 -0.305995  \n",
      "3    -0.045376  0.390293 -0.052414 -0.091035 -0.117851 -2.138345 -0.305995  \n",
      "4    -0.045376  0.390293 -0.052414 -0.091035 -0.117851  0.467651 -0.305995  \n",
      "...        ...       ...       ...       ...       ...       ...       ...  \n",
      "1455 -0.045376  0.390293 -0.052414 -0.091035 -0.117851  0.467651 -0.305995  \n",
      "1456 -0.045376  0.390293 -0.052414 -0.091035 -0.117851  0.467651 -0.305995  \n",
      "1457 -0.045376  0.390293 -0.052414 -0.091035 -0.117851  0.467651 -0.305995  \n",
      "1458 -0.045376  0.390293 -0.052414 -0.091035 -0.117851  0.467651 -0.305995  \n",
      "1459 -0.045376  0.390293 -0.052414 -0.091035 -0.117851  0.467651 -0.305995  \n",
      "\n",
      "[1460 rows x 130 columns]\n"
     ]
    },
    {
     "name": "stderr",
     "output_type": "stream",
     "text": [
      "/Library/Frameworks/Python.framework/Versions/3.8/lib/python3.8/site-packages/sklearn/linear_model/_coordinate_descent.py:1570: DataConversionWarning: A column-vector y was passed when a 1d array was expected. Please change the shape of y to (n_samples, ), for example using ravel().\n",
      "  y = column_or_1d(y, warn=True)\n"
     ]
    },
    {
     "ename": "ValueError",
     "evalue": "X has 129 features, but LassoCV is expecting 130 features as input.",
     "output_type": "error",
     "traceback": [
      "\u001b[0;31m---------------------------------------------------------------------------\u001b[0m",
      "\u001b[0;31mValueError\u001b[0m                                Traceback (most recent call last)",
      "\u001b[0;32m/var/folders/tk/blxd1y755yv39gc7q6mzhlqw0000gn/T/ipykernel_79961/2024103903.py\u001b[0m in \u001b[0;36m<module>\u001b[0;34m\u001b[0m\n\u001b[1;32m     26\u001b[0m \u001b[0;34m\u001b[0m\u001b[0m\n\u001b[1;32m     27\u001b[0m \u001b[0mlcv\u001b[0m \u001b[0;34m=\u001b[0m \u001b[0mLassoCV\u001b[0m\u001b[0;34m(\u001b[0m\u001b[0mcv\u001b[0m\u001b[0;34m=\u001b[0m\u001b[0;36m10\u001b[0m\u001b[0;34m,\u001b[0m \u001b[0mrandom_state\u001b[0m\u001b[0;34m=\u001b[0m\u001b[0;36m0\u001b[0m\u001b[0;34m)\u001b[0m\u001b[0;34m.\u001b[0m\u001b[0mfit\u001b[0m\u001b[0;34m(\u001b[0m\u001b[0mtraintt_X_trans\u001b[0m\u001b[0;34m,\u001b[0m \u001b[0mtraintt_Y\u001b[0m\u001b[0;34m)\u001b[0m\u001b[0;34m\u001b[0m\u001b[0;34m\u001b[0m\u001b[0m\n\u001b[0;32m---> 28\u001b[0;31m \u001b[0mpredtt_Y\u001b[0m \u001b[0;34m=\u001b[0m \u001b[0mlcv\u001b[0m\u001b[0;34m.\u001b[0m\u001b[0mpredict\u001b[0m\u001b[0;34m(\u001b[0m\u001b[0mtesttt_X_trans\u001b[0m\u001b[0;34m)\u001b[0m\u001b[0;34m\u001b[0m\u001b[0;34m\u001b[0m\u001b[0m\n\u001b[0m\u001b[1;32m     29\u001b[0m \u001b[0mprint\u001b[0m\u001b[0;34m(\u001b[0m\u001b[0mpredtt_Y\u001b[0m\u001b[0;34m)\u001b[0m\u001b[0;34m\u001b[0m\u001b[0;34m\u001b[0m\u001b[0m\n\u001b[1;32m     30\u001b[0m \u001b[0;34m\u001b[0m\u001b[0m\n",
      "\u001b[0;32m/Library/Frameworks/Python.framework/Versions/3.8/lib/python3.8/site-packages/sklearn/linear_model/_base.py\u001b[0m in \u001b[0;36mpredict\u001b[0;34m(self, X)\u001b[0m\n\u001b[1;32m    360\u001b[0m             \u001b[0mReturns\u001b[0m \u001b[0mpredicted\u001b[0m \u001b[0mvalues\u001b[0m\u001b[0;34m.\u001b[0m\u001b[0;34m\u001b[0m\u001b[0;34m\u001b[0m\u001b[0m\n\u001b[1;32m    361\u001b[0m         \"\"\"\n\u001b[0;32m--> 362\u001b[0;31m         \u001b[0;32mreturn\u001b[0m \u001b[0mself\u001b[0m\u001b[0;34m.\u001b[0m\u001b[0m_decision_function\u001b[0m\u001b[0;34m(\u001b[0m\u001b[0mX\u001b[0m\u001b[0;34m)\u001b[0m\u001b[0;34m\u001b[0m\u001b[0;34m\u001b[0m\u001b[0m\n\u001b[0m\u001b[1;32m    363\u001b[0m \u001b[0;34m\u001b[0m\u001b[0m\n\u001b[1;32m    364\u001b[0m     \u001b[0m_preprocess_data\u001b[0m \u001b[0;34m=\u001b[0m \u001b[0mstaticmethod\u001b[0m\u001b[0;34m(\u001b[0m\u001b[0m_preprocess_data\u001b[0m\u001b[0;34m)\u001b[0m\u001b[0;34m\u001b[0m\u001b[0;34m\u001b[0m\u001b[0m\n",
      "\u001b[0;32m/Library/Frameworks/Python.framework/Versions/3.8/lib/python3.8/site-packages/sklearn/linear_model/_base.py\u001b[0m in \u001b[0;36m_decision_function\u001b[0;34m(self, X)\u001b[0m\n\u001b[1;32m    343\u001b[0m         \u001b[0mcheck_is_fitted\u001b[0m\u001b[0;34m(\u001b[0m\u001b[0mself\u001b[0m\u001b[0;34m)\u001b[0m\u001b[0;34m\u001b[0m\u001b[0;34m\u001b[0m\u001b[0m\n\u001b[1;32m    344\u001b[0m \u001b[0;34m\u001b[0m\u001b[0m\n\u001b[0;32m--> 345\u001b[0;31m         \u001b[0mX\u001b[0m \u001b[0;34m=\u001b[0m \u001b[0mself\u001b[0m\u001b[0;34m.\u001b[0m\u001b[0m_validate_data\u001b[0m\u001b[0;34m(\u001b[0m\u001b[0mX\u001b[0m\u001b[0;34m,\u001b[0m \u001b[0maccept_sparse\u001b[0m\u001b[0;34m=\u001b[0m\u001b[0;34m[\u001b[0m\u001b[0;34m\"csr\"\u001b[0m\u001b[0;34m,\u001b[0m \u001b[0;34m\"csc\"\u001b[0m\u001b[0;34m,\u001b[0m \u001b[0;34m\"coo\"\u001b[0m\u001b[0;34m]\u001b[0m\u001b[0;34m,\u001b[0m \u001b[0mreset\u001b[0m\u001b[0;34m=\u001b[0m\u001b[0;32mFalse\u001b[0m\u001b[0;34m)\u001b[0m\u001b[0;34m\u001b[0m\u001b[0;34m\u001b[0m\u001b[0m\n\u001b[0m\u001b[1;32m    346\u001b[0m         \u001b[0;32mreturn\u001b[0m \u001b[0msafe_sparse_dot\u001b[0m\u001b[0;34m(\u001b[0m\u001b[0mX\u001b[0m\u001b[0;34m,\u001b[0m \u001b[0mself\u001b[0m\u001b[0;34m.\u001b[0m\u001b[0mcoef_\u001b[0m\u001b[0;34m.\u001b[0m\u001b[0mT\u001b[0m\u001b[0;34m,\u001b[0m \u001b[0mdense_output\u001b[0m\u001b[0;34m=\u001b[0m\u001b[0;32mTrue\u001b[0m\u001b[0;34m)\u001b[0m \u001b[0;34m+\u001b[0m \u001b[0mself\u001b[0m\u001b[0;34m.\u001b[0m\u001b[0mintercept_\u001b[0m\u001b[0;34m\u001b[0m\u001b[0;34m\u001b[0m\u001b[0m\n\u001b[1;32m    347\u001b[0m \u001b[0;34m\u001b[0m\u001b[0m\n",
      "\u001b[0;32m/Library/Frameworks/Python.framework/Versions/3.8/lib/python3.8/site-packages/sklearn/base.py\u001b[0m in \u001b[0;36m_validate_data\u001b[0;34m(self, X, y, reset, validate_separately, **check_params)\u001b[0m\n\u001b[1;32m    574\u001b[0m \u001b[0;34m\u001b[0m\u001b[0m\n\u001b[1;32m    575\u001b[0m         \u001b[0;32mif\u001b[0m \u001b[0;32mnot\u001b[0m \u001b[0mno_val_X\u001b[0m \u001b[0;32mand\u001b[0m \u001b[0mcheck_params\u001b[0m\u001b[0;34m.\u001b[0m\u001b[0mget\u001b[0m\u001b[0;34m(\u001b[0m\u001b[0;34m\"ensure_2d\"\u001b[0m\u001b[0;34m,\u001b[0m \u001b[0;32mTrue\u001b[0m\u001b[0;34m)\u001b[0m\u001b[0;34m:\u001b[0m\u001b[0;34m\u001b[0m\u001b[0;34m\u001b[0m\u001b[0m\n\u001b[0;32m--> 576\u001b[0;31m             \u001b[0mself\u001b[0m\u001b[0;34m.\u001b[0m\u001b[0m_check_n_features\u001b[0m\u001b[0;34m(\u001b[0m\u001b[0mX\u001b[0m\u001b[0;34m,\u001b[0m \u001b[0mreset\u001b[0m\u001b[0;34m=\u001b[0m\u001b[0mreset\u001b[0m\u001b[0;34m)\u001b[0m\u001b[0;34m\u001b[0m\u001b[0;34m\u001b[0m\u001b[0m\n\u001b[0m\u001b[1;32m    577\u001b[0m \u001b[0;34m\u001b[0m\u001b[0m\n\u001b[1;32m    578\u001b[0m         \u001b[0;32mreturn\u001b[0m \u001b[0mout\u001b[0m\u001b[0;34m\u001b[0m\u001b[0;34m\u001b[0m\u001b[0m\n",
      "\u001b[0;32m/Library/Frameworks/Python.framework/Versions/3.8/lib/python3.8/site-packages/sklearn/base.py\u001b[0m in \u001b[0;36m_check_n_features\u001b[0;34m(self, X, reset)\u001b[0m\n\u001b[1;32m    393\u001b[0m \u001b[0;34m\u001b[0m\u001b[0m\n\u001b[1;32m    394\u001b[0m         \u001b[0;32mif\u001b[0m \u001b[0mn_features\u001b[0m \u001b[0;34m!=\u001b[0m \u001b[0mself\u001b[0m\u001b[0;34m.\u001b[0m\u001b[0mn_features_in_\u001b[0m\u001b[0;34m:\u001b[0m\u001b[0;34m\u001b[0m\u001b[0;34m\u001b[0m\u001b[0m\n\u001b[0;32m--> 395\u001b[0;31m             raise ValueError(\n\u001b[0m\u001b[1;32m    396\u001b[0m                 \u001b[0;34mf\"X has {n_features} features, but {self.__class__.__name__} \"\u001b[0m\u001b[0;34m\u001b[0m\u001b[0;34m\u001b[0m\u001b[0m\n\u001b[1;32m    397\u001b[0m                 \u001b[0;34mf\"is expecting {self.n_features_in_} features as input.\"\u001b[0m\u001b[0;34m\u001b[0m\u001b[0;34m\u001b[0m\u001b[0m\n",
      "\u001b[0;31mValueError\u001b[0m: X has 129 features, but LassoCV is expecting 130 features as input."
     ]
    }
   ],
   "source": [
    "scaler = preprocessing.StandardScaler()\n",
    "traintt_Y=train.iloc[:, -1:]\n",
    "traintt_X=houses_train.drop(['Id','SalePrice'],axis=1)\n",
    "scaler.fit(traintt_X)\n",
    "traintt_X_trans = pd.DataFrame(scaler.transform(traintt_X))\n",
    "\n",
    "testtt_X=houses_test.drop(['Id'],axis=1)\n",
    "\n",
    "#print(testtt_X)\n",
    "scaler.fit(testtt_X)\n",
    "testtt_X_trans = pd.DataFrame(scaler.transform(testtt_X))\n",
    "testtt_X_trans=testtt_X_trans.fillna(0)\n",
    "print(testtt_X_trans)\n",
    "print(traintt_X_trans)\n",
    "\n",
    "\n",
    "\n",
    "lcv = LassoCV(cv=10, random_state=0).fit(traintt_X_trans, traintt_Y)\n",
    "predtt_Y = lcv.predict(testtt_X_trans)\n",
    "print(predtt_Y)\n",
    "\n",
    "\n",
    "# rcv = RidgeCV(alphas=[1e-3,1e-1, 1, 10, 100]).fit(traintt_X_trans, traintt_Y)\n",
    "# predtt_Y = rcv.predict(testtt_X_trans)\n",
    "# print(predtt_Y)\n",
    "def write_to_csv(filename):\n",
    "  # key is the column name\n",
    "  df = pd.DataFrame({'Id':test['Id'],'SalePrice': predtt_Y.ravel()})\n",
    "  \n",
    "  # index: if show row name, default=True\n",
    "  df.to_csv(filename, index=False, sep=',')\n",
    "\n",
    "write_to_csv('submission.csv')\n",
    "\n"
   ]
  },
  {
   "cell_type": "code",
   "execution_count": null,
   "metadata": {},
   "outputs": [],
   "source": []
  }
 ],
 "metadata": {
  "kernelspec": {
   "display_name": "Python 3",
   "language": "python",
   "name": "python3"
  },
  "language_info": {
   "codemirror_mode": {
    "name": "ipython",
    "version": 3
   },
   "file_extension": ".py",
   "mimetype": "text/x-python",
   "name": "python",
   "nbconvert_exporter": "python",
   "pygments_lexer": "ipython3",
   "version": "3.9.0"
  }
 },
 "nbformat": 4,
 "nbformat_minor": 4
}